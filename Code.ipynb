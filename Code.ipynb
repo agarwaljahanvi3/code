{
 "cells": [
  {
   "cell_type": "code",
   "execution_count": 1,
   "id": "05c695ce",
   "metadata": {},
   "outputs": [],
   "source": [
    "#!pip install sas7bdat"
   ]
  },
  {
   "cell_type": "code",
   "execution_count": 2,
   "id": "fea9cb08",
   "metadata": {},
   "outputs": [],
   "source": [
    "#!pip install pyarrow"
   ]
  },
  {
   "cell_type": "code",
   "execution_count": 3,
   "id": "f34fcf92",
   "metadata": {},
   "outputs": [],
   "source": [
    "import pandas as pd\n",
    "import pyarrow as pa\n",
    "import pyarrow.parquet as pq\n",
    "from sas7bdat import SAS7BDAT\n",
    "import platform"
   ]
  },
  {
   "cell_type": "markdown",
   "id": "739a1811",
   "metadata": {},
   "source": [
    "### Announcements"
   ]
  },
  {
   "cell_type": "code",
   "execution_count": 4,
   "id": "758d646f",
   "metadata": {},
   "outputs": [
    {
     "name": "stderr",
     "output_type": "stream",
     "text": [
      "C:\\Users\\iamkr\\AppData\\Local\\Temp\\ipykernel_7220\\3245759365.py:1: DtypeWarning: Columns (8) have mixed types. Specify dtype option on import or set low_memory=False.\n",
      "  announcements_df = pd.read_csv('announcements.csv', encoding = 'ISO-8859-1')\n"
     ]
    },
    {
     "data": {
      "text/html": [
       "<div>\n",
       "<style scoped>\n",
       "    .dataframe tbody tr th:only-of-type {\n",
       "        vertical-align: middle;\n",
       "    }\n",
       "\n",
       "    .dataframe tbody tr th {\n",
       "        vertical-align: top;\n",
       "    }\n",
       "\n",
       "    .dataframe thead th {\n",
       "        text-align: right;\n",
       "    }\n",
       "</style>\n",
       "<table border=\"1\" class=\"dataframe\">\n",
       "  <thead>\n",
       "    <tr style=\"text-align: right;\">\n",
       "      <th></th>\n",
       "      <th>COMPANYID</th>\n",
       "      <th>ANNOUNCEMENTDATE</th>\n",
       "      <th>COMPANYNAME</th>\n",
       "      <th>DIRECTORNAME</th>\n",
       "      <th>DIRECTORID</th>\n",
       "      <th>COMMITTEENAME</th>\n",
       "      <th>ROLENAME</th>\n",
       "      <th>DESCRIPTION</th>\n",
       "      <th>EFFECTIVEDATE</th>\n",
       "    </tr>\n",
       "  </thead>\n",
       "  <tbody>\n",
       "    <tr>\n",
       "      <th>0</th>\n",
       "      <td>3</td>\n",
       "      <td>20061027</td>\n",
       "      <td>1 800 CONTACTS INC (De-listed 09/2007)</td>\n",
       "      <td>Grange Johnson</td>\n",
       "      <td>505279</td>\n",
       "      <td>NaN</td>\n",
       "      <td>Director - SD</td>\n",
       "      <td>It has been announced that Grange Johnson will...</td>\n",
       "      <td>20061027</td>\n",
       "    </tr>\n",
       "    <tr>\n",
       "      <th>1</th>\n",
       "      <td>3</td>\n",
       "      <td>20050728</td>\n",
       "      <td>1 800 CONTACTS INC (De-listed 09/2007)</td>\n",
       "      <td>Steve Key</td>\n",
       "      <td>59796</td>\n",
       "      <td>NaN</td>\n",
       "      <td>Independent Director</td>\n",
       "      <td>It has been announced that Steve Key will join...</td>\n",
       "      <td>20050728</td>\n",
       "    </tr>\n",
       "    <tr>\n",
       "      <th>2</th>\n",
       "      <td>6</td>\n",
       "      <td>20160309</td>\n",
       "      <td>1-800-FLOWERS.COM INC</td>\n",
       "      <td>Chris McCann</td>\n",
       "      <td>327069</td>\n",
       "      <td>NaN</td>\n",
       "      <td>President/CEO</td>\n",
       "      <td>Christopher G McCann will become CEO in additi...</td>\n",
       "      <td>20160630</td>\n",
       "    </tr>\n",
       "    <tr>\n",
       "      <th>3</th>\n",
       "      <td>6</td>\n",
       "      <td>20170404</td>\n",
       "      <td>1-800-FLOWERS.COM INC</td>\n",
       "      <td>David Taiclet</td>\n",
       "      <td>508723</td>\n",
       "      <td>NaN</td>\n",
       "      <td>Division President</td>\n",
       "      <td>It has been announced that David Taiclet will ...</td>\n",
       "      <td>20170531</td>\n",
       "    </tr>\n",
       "    <tr>\n",
       "      <th>4</th>\n",
       "      <td>6</td>\n",
       "      <td>20070316</td>\n",
       "      <td>1-800-FLOWERS.COM INC</td>\n",
       "      <td>Doctor Deven Sharma</td>\n",
       "      <td>36503</td>\n",
       "      <td>NaN</td>\n",
       "      <td>Independent Director</td>\n",
       "      <td>It has been announced that Doctor Deven Sharma...</td>\n",
       "      <td>20070316</td>\n",
       "    </tr>\n",
       "  </tbody>\n",
       "</table>\n",
       "</div>"
      ],
      "text/plain": [
       "   COMPANYID  ANNOUNCEMENTDATE                             COMPANYNAME  \\\n",
       "0          3          20061027  1 800 CONTACTS INC (De-listed 09/2007)   \n",
       "1          3          20050728  1 800 CONTACTS INC (De-listed 09/2007)   \n",
       "2          6          20160309                   1-800-FLOWERS.COM INC   \n",
       "3          6          20170404                   1-800-FLOWERS.COM INC   \n",
       "4          6          20070316                   1-800-FLOWERS.COM INC   \n",
       "\n",
       "          DIRECTORNAME  DIRECTORID COMMITTEENAME              ROLENAME  \\\n",
       "0       Grange Johnson      505279           NaN         Director - SD   \n",
       "1            Steve Key       59796           NaN  Independent Director   \n",
       "2         Chris McCann      327069           NaN         President/CEO   \n",
       "3        David Taiclet      508723           NaN    Division President   \n",
       "4  Doctor Deven Sharma       36503           NaN  Independent Director   \n",
       "\n",
       "                                         DESCRIPTION EFFECTIVEDATE  \n",
       "0  It has been announced that Grange Johnson will...      20061027  \n",
       "1  It has been announced that Steve Key will join...      20050728  \n",
       "2  Christopher G McCann will become CEO in additi...      20160630  \n",
       "3  It has been announced that David Taiclet will ...      20170531  \n",
       "4  It has been announced that Doctor Deven Sharma...      20070316  "
      ]
     },
     "execution_count": 4,
     "metadata": {},
     "output_type": "execute_result"
    }
   ],
   "source": [
    "announcements_df = pd.read_csv('announcements.csv', encoding = 'ISO-8859-1')\n",
    "announcements_df.head()"
   ]
  },
  {
   "cell_type": "code",
   "execution_count": 5,
   "id": "36f481fe",
   "metadata": {},
   "outputs": [],
   "source": [
    "announcements_df.drop(['COMPANYNAME', 'DIRECTORNAME', 'COMMITTEENAME', 'DESCRIPTION'], axis = 1, inplace = True)"
   ]
  },
  {
   "cell_type": "code",
   "execution_count": 6,
   "id": "ff2bad7c",
   "metadata": {},
   "outputs": [],
   "source": [
    "#announcements_df['ANNOUNCEMENTDATE'] = pd.to_datetime(announcements_df['ANNOUNCEMENTDATE'], format=\"%y%m%d\")\n",
    "#announcements_df['EFFECTIVEDATE'] = pd.to_datetime(announcements_df['EFFECTIVEDATE'], format=\"%y%m%d\")"
   ]
  },
  {
   "cell_type": "markdown",
   "id": "04058187",
   "metadata": {},
   "source": [
    "### committees"
   ]
  },
  {
   "cell_type": "code",
   "execution_count": null,
   "id": "70e43530",
   "metadata": {},
   "outputs": [],
   "source": []
  }
 ],
 "metadata": {
  "kernelspec": {
   "display_name": "Python 3 (ipykernel)",
   "language": "python",
   "name": "python3"
  },
  "language_info": {
   "codemirror_mode": {
    "name": "ipython",
    "version": 3
   },
   "file_extension": ".py",
   "mimetype": "text/x-python",
   "name": "python",
   "nbconvert_exporter": "python",
   "pygments_lexer": "ipython3",
   "version": "3.9.12"
  }
 },
 "nbformat": 4,
 "nbformat_minor": 5
}
